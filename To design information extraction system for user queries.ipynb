{
  "nbformat": 4,
  "nbformat_minor": 0,
  "metadata": {
    "colab": {
      "provenance": []
    },
    "kernelspec": {
      "name": "python3",
      "display_name": "Python 3"
    },
    "language_info": {
      "name": "python"
    }
  },
  "cells": [
    {
      "cell_type": "markdown",
      "source": [
        "**Query 1**\n"
      ],
      "metadata": {
        "id": "c6PuVBO3XvmF"
      }
    },
    {
      "cell_type": "code",
      "source": [
        "import spacy\n",
        "\n",
        "# Load the English NER model provided by spaCy\n",
        "nlp = spacy.load(\"en_core_web_sm\")\n",
        "\n",
        "# Input text\n",
        "text = \"Nagpur is the third-largest city of the Indian state of Maharashtra after Mumbai and Pune. Known as the 'Orange City', Nagpur is the 13th largest city in India by population. According to an Oxford's Economics report, Nagpur is projected to be the fifth fastest growing city in the world from 2019 to 2035 with an average growth of 8.41%. It has been proposed as one of the Smart Cities in Maharashtra and is one of the top ten cities in India in Smart City Project execution.\"\n",
        "\n",
        "# Process the text using spaCy NER\n",
        "doc = nlp(text)"
      ],
      "metadata": {
        "id": "rzVczjfYWwMH"
      },
      "execution_count": 2,
      "outputs": []
    },
    {
      "cell_type": "code",
      "execution_count": 3,
      "metadata": {
        "id": "mpHOztV0VwGf"
      },
      "outputs": [],
      "source": [
        "\n",
        "ranking_in_maharashtra = None\n",
        "ranking_in_india = None\n",
        "future_growth = None\n",
        "\n",
        "for ent in doc.ents:\n",
        "\n",
        "    if ent.label_ == \"GPE\":\n",
        "\n",
        "        if ent.text == \"Maharashtra\":\n",
        "\n",
        "            ranking_in_maharashtra = \"third-largest\"\n",
        "\n",
        "        elif ent.text == \"India\":\n",
        "\n",
        "            ranking_in_india = \"13th largest\"\n",
        "        elif ent.text == \"Nagpur\":\n",
        "\n",
        "            if \"projected to be the fifth fastest growing city\" in ent.sent.text:\n",
        "                future_growth = \"projected to be the fifth fastest growing city in the world from 2019 to 2035 with an average growth of 8.41%.\"\n",
        "\n",
        "\n"
      ]
    },
    {
      "cell_type": "code",
      "source": [
        "# Print the extracted information\n",
        "print(\"Area-wise ranking of Nagpur in Maharashtra:\", ranking_in_maharashtra)\n",
        "print(\"Area-wise ranking of Nagpur in India:\", ranking_in_india)\n",
        "print(\"Future economic growth of Nagpur:\", future_growth)"
      ],
      "metadata": {
        "colab": {
          "base_uri": "https://localhost:8080/"
        },
        "id": "b_wuBZR7WaW9",
        "outputId": "e1a45036-651e-425d-88cf-62703a5954d2"
      },
      "execution_count": 4,
      "outputs": [
        {
          "output_type": "stream",
          "name": "stdout",
          "text": [
            "Area-wise ranking of Nagpur in Maharashtra: third-largest\n",
            "Area-wise ranking of Nagpur in India: 13th largest\n",
            "Future economic growth of Nagpur: None\n"
          ]
        }
      ]
    },
    {
      "cell_type": "markdown",
      "source": [
        "**Query 2**"
      ],
      "metadata": {
        "id": "4SGiMD9DX7dc"
      }
    },
    {
      "cell_type": "code",
      "source": [
        "import spacy\n",
        "nlp = spacy.load(\"en_core_web_sm\")\n",
        "text = \"Maharashtra has a Gross State Domestic Product (GSDP) of approximately USD 435 billion (2022-23), which makes it the largest economy in India. Maharashtra's contribution to India's growth is significant. The state accounts for 12.92% of India's GDP and has a per capita income that is higher than the national average.\"\n",
        "doc = nlp(text)\n",
        "\n"
      ],
      "metadata": {
        "id": "AdkN1ZjCW8IN"
      },
      "execution_count": 5,
      "outputs": []
    },
    {
      "cell_type": "code",
      "source": [
        "\n",
        "contribution_to_economy = None\n",
        "maharashtra_gdp = None\n",
        "\n",
        "for ent in doc.ents:\n",
        "\n",
        "    if ent.label_ == \"MONEY\":\n",
        "\n",
        "        if ent.text == \"USD 435 billion\":\n",
        "            maharashtra_gdp = ent.text\n",
        "\n",
        "    elif ent.label_ == \"PERCENT\":\n",
        "\n",
        "        if \"12.92%\" in ent.text:\n",
        "            contribution_to_economy = ent.text\n",
        "\n"
      ],
      "metadata": {
        "id": "Q98RZbhtXVQd"
      },
      "execution_count": 6,
      "outputs": []
    },
    {
      "cell_type": "code",
      "source": [
        "# Print the extracted information\n",
        "print(\"Contribution of Maharashtra in India's economy:\", contribution_to_economy)\n",
        "print(\"Maharashtra GSDP for 2022-23:\", maharashtra_gdp)\n"
      ],
      "metadata": {
        "colab": {
          "base_uri": "https://localhost:8080/"
        },
        "id": "2AcdqTmBXX4s",
        "outputId": "eda2e098-7f04-4752-b4ab-014d7fc88352"
      },
      "execution_count": 7,
      "outputs": [
        {
          "output_type": "stream",
          "name": "stdout",
          "text": [
            "Contribution of Maharashtra in India's economy: 12.92%\n",
            "Maharashtra GSDP for 2022-23: None\n"
          ]
        }
      ]
    }
  ]
}