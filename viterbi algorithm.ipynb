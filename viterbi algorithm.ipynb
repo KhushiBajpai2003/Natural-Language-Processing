{
  "nbformat": 4,
  "nbformat_minor": 0,
  "metadata": {
    "colab": {
      "provenance": []
    },
    "kernelspec": {
      "name": "python3",
      "display_name": "Python 3"
    },
    "language_info": {
      "name": "python"
    }
  },
  "cells": [
    {
      "cell_type": "code",
      "execution_count": null,
      "metadata": {
        "colab": {
          "base_uri": "https://localhost:8080/"
        },
        "id": "7fcEdG0yVvFj",
        "outputId": "241cd5ad-a9a3-4d92-cc8c-fd4f914538a3"
      },
      "outputs": [
        {
          "output_type": "stream",
          "name": "stdout",
          "text": [
            "POS tag sequence indices: [0, 1, 1]\n"
          ]
        }
      ],
      "source": [
        "import numpy as np\n",
        "\n",
        "def viterbi_decode(sentence, emission_matrix, transition_matrix):\n",
        "    # Define states and words\n",
        "    states = list(emission_matrix.keys())\n",
        "    words = sentence.split()\n",
        "\n",
        "    # Initialize viterbi matrix\n",
        "    num_states = len(states)\n",
        "    num_words = len(words)\n",
        "    viterbi = np.zeros((num_states, num_words))\n",
        "    backpointer = np.zeros((num_states, num_words), dtype=int)\n",
        "\n",
        "    # Initialize first column of viterbi matrix\n",
        "    for state in range(num_states):\n",
        "        word = words[0]\n",
        "        emission_prob = emission_matrix[states[state]].get(word, emission_matrix[states[state]].get('<UNK>', 0))\n",
        "        transition_prob = transition_matrix['<s>'].get(states[state], 0)\n",
        "        viterbi[state, 0] = emission_prob * transition_prob\n",
        "\n",
        "    # Recursion step\n",
        "    for t in range(1, num_words):\n",
        "        for state in range(num_states):\n",
        "            max_prob = 0\n",
        "            best_prev_state = 0\n",
        "            for prev_state in range(num_states):\n",
        "                word = words[t]\n",
        "                emission_prob = emission_matrix[states[state]].get(word, emission_matrix[states[state]].get('<UNK>', 0))\n",
        "                transition_prob = transition_matrix[states[prev_state]].get(states[state], 0)\n",
        "                prob = viterbi[prev_state, t-1] * transition_prob * emission_prob\n",
        "                if prob > max_prob:\n",
        "                    max_prob = prob\n",
        "                    best_prev_state = prev_state\n",
        "            viterbi[state, t] = max_prob\n",
        "            backpointer[state, t] = best_prev_state\n",
        "\n",
        "    # Backtrack to find the best sequence of tags\n",
        "    best_seq = []\n",
        "    best_last_state = np.argmax(viterbi[:, num_words-1])\n",
        "    best_seq.append(best_last_state)\n",
        "    for t in range(num_words-1, 0, -1):\n",
        "        best_last_state = backpointer[best_last_state, t]\n",
        "        best_seq.insert(0, best_last_state)\n",
        "\n",
        "    return best_seq\n",
        "\n",
        "# Example usage\n",
        "emission_matrix = {\n",
        "    'Noun': {'the': 0.7, 'cat': 0.2, 'jumps': 0.1},\n",
        "    'Verb': {'the': 0.1, 'cat': 0.7, 'jumps': 0.2}\n",
        "}\n",
        "\n",
        "transition_matrix = {\n",
        "    '<s>': {'Noun': 0.4, 'Verb': 0.6},\n",
        "    'Noun': {'Noun': 0.2, 'Verb': 0.8},\n",
        "    'Verb': {'Noun': 0.5, 'Verb': 0.5}\n",
        "}\n",
        "\n",
        "sentence = \"the cat jumps\"\n",
        "tag_sequence_indices = viterbi_decode(sentence, emission_matrix, transition_matrix)\n",
        "print(\"POS tag sequence indices:\", tag_sequence_indices)\n"
      ]
    }
  ]
}